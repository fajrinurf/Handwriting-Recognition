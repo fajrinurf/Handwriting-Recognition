{
 "cells": [
  {
   "cell_type": "code",
   "execution_count": 1,
   "metadata": {},
   "outputs": [
    {
     "name": "stderr",
     "output_type": "stream",
     "text": [
      "Using TensorFlow backend.\n"
     ]
    }
   ],
   "source": [
    "import cv2\n",
    "import keras\n",
    "import numpy as np\n",
    "import tensorflow"
   ]
  },
  {
   "cell_type": "code",
   "execution_count": 2,
   "metadata": {},
   "outputs": [
    {
     "name": "stdout",
     "output_type": "stream",
     "text": [
      "WARNING:tensorflow:From C:\\Users\\Fajri\\Anaconda3\\lib\\site-packages\\tensorflow_core\\python\\ops\\resource_variable_ops.py:1630: calling BaseResourceVariable.__init__ (from tensorflow.python.ops.resource_variable_ops) with constraint is deprecated and will be removed in a future version.\n",
      "Instructions for updating:\n",
      "If using Keras pass *_constraint arguments to layers.\n",
      "WARNING:tensorflow:From C:\\Users\\Fajri\\Anaconda3\\lib\\site-packages\\keras\\backend\\tensorflow_backend.py:422: The name tf.global_variables is deprecated. Please use tf.compat.v1.global_variables instead.\n",
      "\n"
     ]
    }
   ],
   "source": [
    "kamera = cv2.VideoCapture(0) #Untuk melakukan video capture, 0=kamera default 1=kamera external\n",
    "\n",
    "model = keras.models.load_model(\"MNIST.model\") #Untuk lood model\n",
    "\n",
    "kernel = np.ones(5)\n",
    "\n",
    "font = cv2.FONT_HERSHEY_SIMPLEX #Font untuk label ketika melakukan videocapture"
   ]
  },
  {
   "cell_type": "code",
   "execution_count": 3,
   "metadata": {},
   "outputs": [],
   "source": [
    "label = {\n",
    "    0 : \"Nol\",\n",
    "    1 : \"Satu\",\n",
    "    2 : \"Dua\",\n",
    "    3 : \"Tiga\",\n",
    "    4 : \"Empat\",\n",
    "    5 : \"Lima\",\n",
    "    6 : \"Enam\",\n",
    "    7 : \"Tujuh\",\n",
    "    8 : \"Delapan\",\n",
    "    9 : \"Sembilan\"\n",
    "}\n"
   ]
  },
  {
   "cell_type": "code",
   "execution_count": 4,
   "metadata": {},
   "outputs": [],
   "source": [
    "def nothing(x):\n",
    "    pass\n",
    "\n",
    "#Memberi nama pada windows\n",
    "cv2.namedWindow('Pengatur')\n",
    "\n",
    "#Isi windows H=hue S=saturation, V=Value, Th=Threshold, min=batas bawah, max=batas atas\n",
    "cv2.createTrackbar('H_Min', 'Pengatur',0,255,nothing)\n",
    "cv2.createTrackbar('S_Min', 'Pengatur',0,255,nothing)\n",
    "cv2.createTrackbar('V_Min', 'Pengatur',0,255,nothing)\n",
    "cv2.createTrackbar('H_Max', 'Pengatur',0,255,nothing)\n",
    "cv2.createTrackbar('S_Max', 'Pengatur',0,255,nothing)\n",
    "cv2.createTrackbar('V_Max', 'Pengatur',0,255,nothing)\n",
    "cv2.createTrackbar('Th_Min', 'Pengatur',0,255,nothing)\n",
    "cv2.createTrackbar('Th_Max', 'Pengatur',0,255,nothing)\n",
    "\n",
    "#try untuk menguji error\n",
    "try:\n",
    "    while(True):\n",
    "        _, frame = kamera.read()\n",
    "        \n",
    "        #Inisialisasi frame HSV convert dari RGB ke HSV\n",
    "        hsv = cv2.cvtColor(frame, cv2.COLOR_BGR2HSV)\n",
    "        \n",
    "        #Untuk membuatt 1 frame pesergi panjang 100x300 (buat kotak frame)\n",
    "         # Draw a box cv2.rectangle(flame,(left,right),(top,bottom),(b,g,r),ketebalan)\n",
    "        cv2.rectangle(frame,(100,100),(300,300),(255,255,255),1)\n",
    "        \n",
    "        #Untuk membuat windows berisi frame RGB dengan ukuran 100x300 (hasil crop RGB)\n",
    "        gambar_crop_hsv = hsv[100:300, 100:300]\n",
    "        #Untuk membuat windows berisi frame HSV dengan ukuran 100x300 (hasil crop frame)\n",
    "        gambar_crop = frame[100:300, 100:300]\n",
    "        \n",
    "        #Untuk mendapatkan Value dari trackbar\n",
    "        H_Min = cv2.getTrackbarPos('H_Min','Pengatur')\n",
    "        S_Min = cv2.getTrackbarPos('S_Min','Pengatur')\n",
    "        V_Min = cv2.getTrackbarPos('V_Min','Pengatur')\n",
    "        H_Max = cv2.getTrackbarPos('H_Max','Pengatur')\n",
    "        S_Max = cv2.getTrackbarPos('S_Max','Pengatur')\n",
    "        V_Max = cv2.getTrackbarPos('V_Max','Pengatur')\n",
    "        Th_Min = cv2.getTrackbarPos('Th_Min','Pengatur')\n",
    "        Th_Max = cv2.getTrackbarPos('Th_Max','Pengatur')\n",
    "        \n",
    "        batas_bawah = np.array([H_Min,S_Min,V_Min])\n",
    "        batas_atas = np.array([H_Max,S_Max,V_Max])\n",
    "        \n",
    "        #Gambar crop pada Kamera nanti akan ditentukan batas bawah dan batas atassnya\n",
    "        mask = cv2.inRange(gambar_crop_hsv, batas_bawah, batas_atas)\n",
    "        \n",
    "        #Selanjutnya Gambar Crop akan dihitung nilai bit dari gambar crop tadi\n",
    "        hasil = cv2.bitwise_and(gambar_crop, gambar_crop, mask = mask)\n",
    "        \n",
    "        #Gambar Hasil bitwite tadi selanjutnya diconvert menjadi gambar grayscale\n",
    "        hasil = cv2.cvtColor(hasil, cv2.COLOR_BGR2GRAY)\n",
    "        \n",
    "        #Gambar Grayscale tadi selanjutnya di tentuin nilai treshold biner minimum dan maximum\n",
    "        _, hasil_threshold = cv2.threshold(hasil, Th_Min, Th_Max, cv2.THRESH_BINARY)\n",
    "        \n",
    "        #Selanjutnya hasil threshold yang sudah diubah kebiner, Binernya diperjelas atau diperbesar\n",
    "        hasil_threshold_dilasi = cv2.dilate(hasil_threshold, kernel, iterations = 2)\n",
    "        \n",
    "        gambar_resize = cv2.resize(hasil_threshold_dilasi,(28,28))\n",
    "        \n",
    "        #print(\"Dimensi Gambar Resize : \", gambar_resize.shape)\n",
    "        \n",
    "        gambar_reshape = np.array(gambar_resize).reshape(1,28,28)\n",
    "        \n",
    "        #Melakukan Prediksi\n",
    "        prediksi = model.predict(x=gambar_reshape)\n",
    "        label_prediksi = np.argmax(prediksi)\n",
    "        \n",
    "        #Meletakkan label hasil prediksi pada frame\n",
    "        cv2.putText(frame,str(label[label_prediksi]),(50,50),font,2,(255,255,0),2,cv2.LINE_AA)\n",
    "        \n",
    "        cv2.imshow('Output Crop', hasil_threshold_dilasi)\n",
    "        \n",
    "        cv2.imshow('Frame', frame)\n",
    "        \n",
    "        cv2.imshow('Hasil Crop', gambar_crop)\n",
    "        \n",
    "        if((cv2.waitKey(1) & 0xFF) == ord('q')):\n",
    "            kamera.release()\n",
    "            cv2.destroyAllWindows()\n",
    "            \n",
    "except KeyboardInterrupt:\n",
    "    kamera.release()\n",
    "    cv2.destroyAllWindows()"
   ]
  },
  {
   "cell_type": "code",
   "execution_count": null,
   "metadata": {},
   "outputs": [],
   "source": []
  }
 ],
 "metadata": {
  "kernelspec": {
   "display_name": "Python 3",
   "language": "python",
   "name": "python3"
  },
  "language_info": {
   "codemirror_mode": {
    "name": "ipython",
    "version": 3
   },
   "file_extension": ".py",
   "mimetype": "text/x-python",
   "name": "python",
   "nbconvert_exporter": "python",
   "pygments_lexer": "ipython3",
   "version": "3.7.4"
  }
 },
 "nbformat": 4,
 "nbformat_minor": 4
}
